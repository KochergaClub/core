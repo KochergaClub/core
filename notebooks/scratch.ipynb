{
 "cells": [
  {
   "cell_type": "code",
   "execution_count": 1,
   "metadata": {},
   "outputs": [],
   "source": [
    "%load_ext autoreload\n",
    "%autoreload 2\n",
    "\n",
    "import os\n",
    "import sys\n",
    "nb_dir = os.path.split(os.getcwd())[0]\n",
    "if nb_dir not in sys.path:\n",
    "    sys.path.append(nb_dir)"
   ]
  },
  {
   "cell_type": "code",
   "execution_count": 2,
   "metadata": {
    "scrolled": true
   },
   "outputs": [],
   "source": [
    "from kocherga.ratio.builder import build_handbook"
   ]
  },
  {
   "cell_type": "code",
   "execution_count": 3,
   "metadata": {},
   "outputs": [],
   "source": [
    "from kocherga.ratio.content import Section"
   ]
  },
  {
   "cell_type": "code",
   "execution_count": 8,
   "metadata": {
    "scrolled": false
   },
   "outputs": [
    {
     "name": "stderr",
     "output_type": "stream",
     "text": [
      "INFO:kocherga.ratio.builder:Факторизация целей\n",
      "INFO:kocherga.ratio.builder:Внутренний симулятор\n",
      "INFO:kocherga.ratio.builder:Премортемы\n",
      "INFO:kocherga.ratio.builder:Ожидаемая полезность\n",
      "INFO:kocherga.ratio.builder:Установка навыков\n",
      "INFO:kocherga.ratio.builder:Факторизация избеганий\n",
      "INFO:kocherga.ratio.builder:Внутренние конфликты\n"
     ]
    },
    {
     "name": "stdout",
     "output_type": "stream",
     "text": [
      "Unknown text type linkReference\n",
      "Unknown text type linkReference\n"
     ]
    },
    {
     "name": "stderr",
     "output_type": "stream",
     "text": [
      "INFO:kocherga.ratio.builder:Оценки вероятностей\n"
     ]
    },
    {
     "name": "stdout",
     "output_type": "stream",
     "text": [
      "Unknown text type linkReference\n",
      "Unknown text type inlineCode\n",
      "Unknown paragraph type thematicBreak\n",
      "Unknown text type linkReference\n",
      "Unknown paragraph type thematicBreak\n"
     ]
    }
   ],
   "source": [
    "build_handbook()"
   ]
  },
  {
   "cell_type": "raw",
   "metadata": {},
   "source": []
  }
 ],
 "metadata": {
  "kernelspec": {
   "display_name": "Python 3",
   "language": "python",
   "name": "python3"
  },
  "language_info": {
   "codemirror_mode": {
    "name": "ipython",
    "version": 3
   },
   "file_extension": ".py",
   "mimetype": "text/x-python",
   "name": "python",
   "nbconvert_exporter": "python",
   "pygments_lexer": "ipython3",
   "version": "3.6.5"
  }
 },
 "nbformat": 4,
 "nbformat_minor": 2
}
