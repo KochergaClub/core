{
 "cells": [
  {
   "cell_type": "code",
   "execution_count": 3,
   "metadata": {},
   "outputs": [],
   "source": [
    "import numpy as np\n",
    "import pandas as pd\n",
    "from tqdm import tqdm_notebook\n",
    "from collections import defaultdict\n",
    "import matplotlib.pyplot as plt\n",
    "\n",
    "import json\n",
    "\n",
    "from kocherba.db import Session"
   ]
  },
  {
   "cell_type": "code",
   "execution_count": 4,
   "metadata": {},
   "outputs": [
    {
     "ename": "FileNotFoundError",
     "evalue": "[Errno 2] No such file or directory: 'result.json'",
     "output_type": "error",
     "traceback": [
      "\u001b[0;31m---------------------------------------------------------------------------\u001b[0m",
      "\u001b[0;31mFileNotFoundError\u001b[0m                         Traceback (most recent call last)",
      "\u001b[0;32m<ipython-input-4-a15dea5f2bba>\u001b[0m in \u001b[0;36m<module>\u001b[0;34m()\u001b[0m\n\u001b[0;32m----> 1\u001b[0;31m \u001b[0mdata\u001b[0m \u001b[0;34m=\u001b[0m \u001b[0mjson\u001b[0m\u001b[0;34m.\u001b[0m\u001b[0mload\u001b[0m\u001b[0;34m(\u001b[0m\u001b[0mopen\u001b[0m\u001b[0;34m(\u001b[0m\u001b[0;34m'result.json'\u001b[0m\u001b[0;34m)\u001b[0m\u001b[0;34m)\u001b[0m\u001b[0;34m\u001b[0m\u001b[0m\n\u001b[0m",
      "\u001b[0;31mFileNotFoundError\u001b[0m: [Errno 2] No such file or directory: 'result.json'"
     ]
    }
   ],
   "source": [
    "data = json.load(open('result.json'))"
   ]
  },
  {
   "cell_type": "code",
   "execution_count": 4,
   "metadata": {},
   "outputs": [
    {
     "data": {
      "text/plain": [
       "[{'cookie_id': 'bd6f086a79139b25cef334e0a5c13004',\n",
       "  'against_id': 'b7ada15065606b2791be871b1062e4a7',\n",
       "  'user': '0.878850851459301'},\n",
       " {'cookie_id': '7f0d8c82f53e68180886bd4e8120f2a9',\n",
       "  'against_id': 'bc02174bd08edbf8c5b89877f60933e3',\n",
       "  'user': '0.878850851459301'},\n",
       " {'cookie_id': '5d5e3af0eb5a9504d3a84390d85d0c09',\n",
       "  'against_id': 'c8cf929ec11ed23403ab6558eec7b2db',\n",
       "  'user': '0.878850851459301'}]"
      ]
     },
     "execution_count": 4,
     "metadata": {},
     "output_type": "execute_result"
    }
   ],
   "source": [
    "data[:3]"
   ]
  },
  {
   "cell_type": "code",
   "execution_count": 10,
   "metadata": {},
   "outputs": [],
   "source": [
    "cookies = defaultdict(lambda: len(cookies))\n",
    "votes = defaultdict(list)"
   ]
  },
  {
   "cell_type": "code",
   "execution_count": 13,
   "metadata": {},
   "outputs": [],
   "source": [
    "for vote in data:\n",
    "    if vote['cookie_id'] != '' and vote['against_id'] != '':\n",
    "        votes[vote['user']].append((cookies[vote['cookie_id']], cookies[vote['against_id']]))"
   ]
  },
  {
   "cell_type": "code",
   "execution_count": 12,
   "metadata": {},
   "outputs": [],
   "source": [
    "def weights_all(v, a):\n",
    "    weights = np.array([1.0] * len(a))\n",
    "    for win, loss in v:\n",
    "        good = a[:, win] > a[:, loss]\n",
    "        weights[good] *= 0.9\n",
    "        weights[~good] *= 0.1\n",
    "    return weights"
   ]
  },
  {
   "cell_type": "code",
   "execution_count": 97,
   "metadata": {},
   "outputs": [],
   "source": [
    "kkk = [k for k in votes if votes[k] == vvv][0]"
   ]
  },
  {
   "cell_type": "code",
   "execution_count": 101,
   "metadata": {},
   "outputs": [],
   "source": [
    "def get_marks(seed, n):\n",
    "    #return np.random.uniform(size=(len(votes), 56))\n",
    "    vvotes = {kkk: votes[kkk]}\n",
    "    marks = np.zeros((len(vvotes), 56))\n",
    "    np.random.seed(seed)\n",
    "    a = np.random.uniform(size=(n, 56))\n",
    "\n",
    "    for i, (k, vvv) in tqdm_notebook(enumerate(vvotes.items()), total=len(votes)):\n",
    "        weights = weights_all(vvv, a)\n",
    "        q = (a * np.repeat(weights.reshape((-1, 1)), a.shape[1], axis=1)).sum(axis=0) / weights.sum()\n",
    "        marks[i] = q\n",
    "    return marks"
   ]
  },
  {
   "cell_type": "code",
   "execution_count": 24,
   "metadata": {},
   "outputs": [
    {
     "data": {
      "application/vnd.jupyter.widget-view+json": {
       "model_id": "ab36135f019e44399a15949fd430fda6",
       "version_major": 2,
       "version_minor": 0
      },
      "text/plain": [
       "HBox(children=(IntProgress(value=0, max=167), HTML(value='')))"
      ]
     },
     "metadata": {},
     "output_type": "display_data"
    },
    {
     "data": {
      "application/vnd.jupyter.widget-view+json": {
       "model_id": "fbf3ecb77c60471fa5dbe16f9316a4e2",
       "version_major": 2,
       "version_minor": 0
      },
      "text/plain": [
       "HBox(children=(IntProgress(value=0, max=167), HTML(value='')))"
      ]
     },
     "metadata": {},
     "output_type": "display_data"
    },
    {
     "name": "stdout",
     "output_type": "stream",
     "text": [
      "bad 0 0.8737468598605602 0.3124699537714881\n"
     ]
    },
    {
     "data": {
      "image/png": "[encoded data removed]",
      "text/plain": [
       "<Figure size 432x288 with 1 Axes>"
      ]
     },
     "metadata": {},
     "output_type": "display_data"
    }
   ],
   "source": [
    "for n in [100000]:#[1000, 10000, 100000, 1000000]:\n",
    "    marks1 = get_marks(42 + n, n)\n",
    "    marks2 = get_marks(43 + n, n)\n",
    "    #diff = (np.abs(marks1 - marks2) / (marks1 + marks2)).mean(axis=1)\n",
    "    diff = (np.abs(marks1 - marks2)).max(axis=1)\n",
    "    print(\"bad\", np.isnan(diff).sum(), diff[np.isfinite(diff)].max(), diff[np.isfinite(diff)].mean())\n",
    "    plt.hist(diff[np.isfinite(diff)])\n",
    "    plt.show()"
   ]
  },
  {
   "cell_type": "code",
   "execution_count": 23,
   "metadata": {},
   "outputs": [
    {
     "data": {
      "text/plain": [
       "(array([ 11.,  19.,  28.,  48.,  60.,  66.,  80.,  93.,  99., 104., 108.,\n",
       "        112., 116., 122., 128., 132., 134., 137., 137., 139., 140., 140.,\n",
       "        141., 143., 144., 145., 145., 147., 148., 149., 150., 150., 151.,\n",
       "        151., 151., 152., 153., 155., 155., 155., 156., 157., 157., 159.,\n",
       "        159., 159., 159., 159., 161., 162.]),\n",
       " array([  1.  ,   4.64,   8.28,  11.92,  15.56,  19.2 ,  22.84,  26.48,\n",
       "         30.12,  33.76,  37.4 ,  41.04,  44.68,  48.32,  51.96,  55.6 ,\n",
       "         59.24,  62.88,  66.52,  70.16,  73.8 ,  77.44,  81.08,  84.72,\n",
       "         88.36,  92.  ,  95.64,  99.28, 102.92, 106.56, 110.2 , 113.84,\n",
       "        117.48, 121.12, 124.76, 128.4 , 132.04, 135.68, 139.32, 142.96,\n",
       "        146.6 , 150.24, 153.88, 157.52, 161.16, 164.8 , 168.44, 172.08,\n",
       "        175.72, 179.36, 183.  ]),\n",
       " <a list of 50 Patch objects>)"
      ]
     },
     "execution_count": 23,
     "metadata": {},
     "output_type": "execute_result"
    },
    {
     "data": {
      "image/png": "[encoded data removed]",
      "text/plain": [
       "<Figure size 432x288 with 1 Axes>"
      ]
     },
     "metadata": {},
     "output_type": "display_data"
    }
   ],
   "source": [
    "vc = np.array([len(v) for v in votes.values()])\n",
    "plt.hist(vc[vc < 200], bins=50, cumulative=True)"
   ]
  },
  {
   "cell_type": "code",
   "execution_count": 32,
   "metadata": {},
   "outputs": [],
   "source": [
    "vvv = votes['0.878850851459301']"
   ]
  },
  {
   "cell_type": "code",
   "execution_count": 33,
   "metadata": {},
   "outputs": [
    {
     "data": {
      "text/plain": [
       "[(0, 1), (2, 3), (4, 5), (6, 5), (28, 14), (39, 31), (25, 37), (30, 16)]"
      ]
     },
     "execution_count": 33,
     "metadata": {},
     "output_type": "execute_result"
    }
   ],
   "source": [
    "vvv"
   ]
  },
  {
   "cell_type": "code",
   "execution_count": 34,
   "metadata": {},
   "outputs": [],
   "source": [
    "import itertools"
   ]
  },
  {
   "cell_type": "code",
   "execution_count": 43,
   "metadata": {},
   "outputs": [
    {
     "data": {
      "image/png": "[encoded data removed]",
      "text/plain": [
       "<Figure size 432x288 with 1 Axes>"
      ]
     },
     "metadata": {},
     "output_type": "display_data"
    }
   ],
   "source": [
    "plt.hist([len(set(itertools.chain([x for x, _ in vvv], [x for _, x in vvv]))) for vvv in votes.values()], bins=56)\n",
    "plt.show()"
   ]
  },
  {
   "cell_type": "code",
   "execution_count": 70,
   "metadata": {},
   "outputs": [],
   "source": [
    "def update_weight(w, v, lr=0.1):\n",
    "    x = w[v[0]] - w[v[1]]\n",
    "    d = 1.0 - np.exp(x - 1)\n",
    "    w[v[0]] = min(w[v[0]] + d * lr, 1.0)\n",
    "    w[v[1]] = max(w[v[1]] - d * lr, 0.0)"
   ]
  },
  {
   "cell_type": "code",
   "execution_count": 89,
   "metadata": {},
   "outputs": [],
   "source": [
    "vvv = [v for v in votes.values() if len(v) == 10][0]"
   ]
  },
  {
   "cell_type": "code",
   "execution_count": 133,
   "metadata": {},
   "outputs": [],
   "source": [
    "import random"
   ]
  },
  {
   "cell_type": "code",
   "execution_count": 175,
   "metadata": {},
   "outputs": [
    {
     "data": {
      "application/vnd.jupyter.widget-view+json": {
       "model_id": "39a8789d34134751a0d9c5ae25d77c3c",
       "version_major": 2,
       "version_minor": 0
      },
      "text/plain": [
       "HBox(children=(IntProgress(value=0, max=165), HTML(value='')))"
      ]
     },
     "metadata": {},
     "output_type": "display_data"
    }
   ],
   "source": [
    "#vvv = votes.values().__iter__().__next__() #[(0, 1), (1, 2), (0, 3)]\n",
    "#marks = np.zeros((len(votes), 56))\n",
    "votes_num = []\n",
    "for i, vvv in tqdm_notebook(enumerate(votes.values()), total=len(votes)):\n",
    "    votes_num.append(len(vvv))\n",
    "    #continue\n",
    "    m = 56 #max(max(x, y) for x, y in vvv)\n",
    "    vvv = vvv[:]\n",
    "    vvv += [(i, m) for i in range(m)]\n",
    "    vvv += [(m + 1, i) for i in range(m)]\n",
    "\n",
    "    w = [0.5] * (m + 2)\n",
    "    for _ in range(500):\n",
    "        random.shuffle(vvv)\n",
    "        for v in vvv:\n",
    "            update_weight(w, v, lr=0.02)\n",
    "            w[m] = 0.0\n",
    "            w[m + 1] = 1.0\n",
    "    marks[i] = w[:56]\n",
    "    #print(' '.join('%d-%.2f' % (i, x, ) for i, x in enumerate(w[:-2]) if abs(x - 0.5) > 1e-5))"
   ]
  },
  {
   "cell_type": "code",
   "execution_count": 219,
   "metadata": {},
   "outputs": [
    {
     "data": {
      "text/plain": [
       "['c8cf929ec11ed23403ab6558eec7b2db',\n",
       " 'd0c5f601726f94b011f2b386cf122afd',\n",
       " '5c84eb5c22a1ef8e8899c062e07238c4',\n",
       " 'cd9519a07dcbab06daed0949c8c59d72',\n",
       " 'cc98f134d8e047f989b7fa9f9373aaa7',\n",
       " 'f805d4de41a764f20a3361030e110c05']"
      ]
     },
     "execution_count": 219,
     "metadata": {},
     "output_type": "execute_result"
    }
   ],
   "source": [
    "[k for k, v in cookies.items() if (marks > 0.6).mean(axis = 0)[v] > 0.35]"
   ]
  },
  {
   "cell_type": "code",
   "execution_count": 238,
   "metadata": {},
   "outputs": [],
   "source": [
    "pos_learn = {}\n",
    "for i, (k, _) in enumerate(sorted([(k, marks[:, v].mean()) for k, v in cookies.items()], key=lambda x: -x[1])):\n",
    "    pos_learn[k] = i"
   ]
  },
  {
   "cell_type": "code",
   "execution_count": 237,
   "metadata": {},
   "outputs": [],
   "source": [
    "pos_naive = {}\n",
    "for i, (k, _) in enumerate(sorted([(k, rating[v]) for k, v in cookies.items()], key=lambda x: -x[1])):\n",
    "    pos_naive[k] = i"
   ]
  },
  {
   "cell_type": "code",
   "execution_count": 241,
   "metadata": {},
   "outputs": [],
   "source": [
    "qqq = np.array([[pos_learn[k], pos_naive[k]] for k in pos_learn])"
   ]
  },
  {
   "cell_type": "code",
   "execution_count": 242,
   "metadata": {},
   "outputs": [
    {
     "data": {
      "text/plain": [
       "[<matplotlib.lines.Line2D at 0x10ccb6a20>]"
      ]
     },
     "execution_count": 242,
     "metadata": {},
     "output_type": "execute_result"
    },
    {
     "data": {
      "image/png": "[encoded data removed]",
      "text/plain": [
       "<Figure size 432x288 with 1 Axes>"
      ]
     },
     "metadata": {},
     "output_type": "display_data"
    }
   ],
   "source": [
    "plt.plot(qqq[:, 0], qqq[:, 1], '.')"
   ]
  },
  {
   "cell_type": "code",
   "execution_count": 224,
   "metadata": {},
   "outputs": [],
   "source": [
    "votes_pos = defaultdict(int)\n",
    "votes_neg = defaultdict(int)\n",
    "for vvv in votes.values():\n",
    "    for w, l in vvv:\n",
    "        votes_pos[w] += 1\n",
    "        votes_neg[l] += 1"
   ]
  },
  {
   "cell_type": "code",
   "execution_count": 228,
   "metadata": {},
   "outputs": [],
   "source": [
    "rating = {k: (votes_pos[k] - votes_neg[k]) / ((votes_pos[k] + votes_neg[k]) or 1) for k in range(55)}"
   ]
  },
  {
   "cell_type": "code",
   "execution_count": 256,
   "metadata": {},
   "outputs": [
    {
     "data": {
      "text/plain": [
       "{'5c84eb5c22a1ef8e8899c062e07238c4': 0,\n",
       " 'cd9519a07dcbab06daed0949c8c59d72': 1,\n",
       " 'd0c5f601726f94b011f2b386cf122afd': 2,\n",
       " 'cc98f134d8e047f989b7fa9f9373aaa7': 3,\n",
       " 'b600acec8ea68e23f0ccd009b2d2528f': 4,\n",
       " 'c8cf929ec11ed23403ab6558eec7b2db': 5,\n",
       " 'ceada290c93655d36aca7567289dcc59': 6,\n",
       " '9917153c881f8eb60b27af0ff4675ff5': 7,\n",
       " 'f805d4de41a764f20a3361030e110c05': 8,\n",
       " '62de4cd9b7460530f1bc4f719b423765': 9,\n",
       " '5dc7d207bbdbd7fcb426717ab93d6807': 10,\n",
       " 'a43d753677aedea4aa61c34758df8172': 11,\n",
       " 'b520f9f2e20f27f9bd121cc837f63815': 12,\n",
       " 'f0dd9e9377cb773f1e6363ccb7342cc7': 13,\n",
       " '54959e726567d23bc2641515cd608d3c': 14,\n",
       " '16f65d2d8bdca34c18f8e95fae85a29a': 15,\n",
       " '7f0d8c82f53e68180886bd4e8120f2a9': 16,\n",
       " '6ca0815c8f67750b7bdb953e791c74f2': 17,\n",
       " 'd368e682b122643dafdaf52aacd5dac5': 18,\n",
       " '19966e7b22d7a1b91bd5b84e8583280e': 19,\n",
       " '035f63a628c04260801d2ce33f7e5606': 20,\n",
       " 'c7b1bdfbbdbd75efb458abc4ffd57bfe': 21,\n",
       " '5320fe9772dd036aa9d16253a18130b0': 22,\n",
       " 'c5693f1f91c59dcbe3966922244f57f9': 23,\n",
       " 'a1b75f8ef7f3a081207ea5523f3dc0b4': 24,\n",
       " 'b7ada15065606b2791be871b1062e4a7': 25,\n",
       " '1149348a4ac58b28ef39bb85c5553a41': 26,\n",
       " '33b3f0bcae1f200491ac39bc1f0de082': 27,\n",
       " '0514740dcb0a46bf84d182db2806f094': 28,\n",
       " '83980c4e2892e1dad2cafa1d795d9e3b': 29,\n",
       " 'fc3d0ffb94b807e844edd7bffee6859b': 30,\n",
       " '2f0c13ff88dbe3f585e8b8e8b3e6b331': 31,\n",
       " '08ce291cb22d2d430488e8920c5d0506': 32,\n",
       " 'e194f48172790be38179f738f36686fc': 33,\n",
       " '3bd6db29f3764bc705dbfc53cbe6abd8': 34,\n",
       " 'aee61554cecaec08790c530808fa0b50': 35,\n",
       " 'b904f91412070d43438050b87a553b1d': 36,\n",
       " 'b9056c0368787091e6f884d10d35c813': 37,\n",
       " '07f7ee4092c845fff1b19156fba3cf15': 38,\n",
       " '5d5e3af0eb5a9504d3a84390d85d0c09': 39,\n",
       " '4294c3f429130550d75ae54fd83bce95': 40,\n",
       " '3be3f70502d2f7c257807c1e60c47ed8': 41,\n",
       " '7b41b993085df4c7db50f30b509354a4': 42,\n",
       " '8363e517462877b54ac5ced782c5d09d': 43,\n",
       " 'bd6f086a79139b25cef334e0a5c13004': 44,\n",
       " '82d18bc0b41b64d4b925a9601612ead7': 45,\n",
       " 'af7dfac9eadb8400373bc3c56f342620': 46,\n",
       " '1ab3adab34c2d8eb33a54624ff68959e': 47,\n",
       " 'd1309df6186fa1f19da942b5bf9e12a9': 48,\n",
       " 'eda6969f493485f938f632a93288da0c': 49,\n",
       " '79ed8b010b01ba95fce7acad754cddfd': 50,\n",
       " 'ed1632d4dce966cce924e5321827df15': 51,\n",
       " 'bc02174bd08edbf8c5b89877f60933e3': 52,\n",
       " 'e63ddde74810b8bcf0d0c486cf5eddb8': 53}"
      ]
     },
     "execution_count": 256,
     "metadata": {},
     "output_type": "execute_result"
    }
   ],
   "source": [
    "pos_learn"
   ]
  }
 ],
 "metadata": {
  "kernelspec": {
   "display_name": "Python 3",
   "language": "python",
   "name": "python3"
  },
  "language_info": {
   "codemirror_mode": {
    "name": "ipython",
    "version": 3
   },
   "file_extension": ".py",
   "mimetype": "text/x-python",
   "name": "python",
   "nbconvert_exporter": "python",
   "pygments_lexer": "ipython3",
   "version": "3.6.5"
  }
 },
 "nbformat": 4,
 "nbformat_minor": 2
}
