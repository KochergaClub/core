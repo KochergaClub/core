{
 "cells": [
  {
   "cell_type": "code",
   "execution_count": 13,
   "metadata": {},
   "outputs": [],
   "source": [
    "import os\n",
    "import sys\n",
    "nb_dir = os.path.split(os.getcwd())[0]\n",
    "if nb_dir not in sys.path:\n",
    "    sys.path.append(nb_dir)\n",
    "\n",
    "import numpy as np\n",
    "import pandas as pd\n",
    "from tqdm import tqdm_notebook\n",
    "from collections import defaultdict\n",
    "import matplotlib.pyplot as plt\n",
    "\n",
    "import json\n",
    "\n",
    "from kocherga.db import Session\n",
    "from kocherga.supplies.cookies import CookiePick"
   ]
  },
  {
   "cell_type": "code",
   "execution_count": 14,
   "metadata": {},
   "outputs": [],
   "source": [
    "cookie_picks = Session().query(CookiePick).all()"
   ]
  },
  {
   "cell_type": "code",
   "execution_count": 15,
   "metadata": {},
   "outputs": [],
   "source": [
    "data = [{'cookie_id': p.cookie_id, 'against_id': p.against_id, 'user': p.user} for p in cookie_picks]"
   ]
  },
  {
   "cell_type": "code",
   "execution_count": 16,
   "metadata": {},
   "outputs": [
    {
     "data": {
      "text/plain": [
       "[{'cookie_id': 'bd6f086a79139b25cef334e0a5c13004',\n",
       "  'against_id': 'b7ada15065606b2791be871b1062e4a7',\n",
       "  'user': '0.878850851459301'},\n",
       " {'cookie_id': '7f0d8c82f53e68180886bd4e8120f2a9',\n",
       "  'against_id': 'bc02174bd08edbf8c5b89877f60933e3',\n",
       "  'user': '0.878850851459301'},\n",
       " {'cookie_id': '5d5e3af0eb5a9504d3a84390d85d0c09',\n",
       "  'against_id': 'c8cf929ec11ed23403ab6558eec7b2db',\n",
       "  'user': '0.878850851459301'}]"
      ]
     },
     "execution_count": 16,
     "metadata": {},
     "output_type": "execute_result"
    }
   ],
   "source": [
    "data[:3]"
   ]
  },
  {
   "cell_type": "code",
   "execution_count": 18,
   "metadata": {},
   "outputs": [],
   "source": [
    "cookies = defaultdict(lambda: len(cookies)) # https://wchargin.github.io/posts/a-cute-autoincrementing-id-table-in-one-line-of-python/\n",
    "votes = defaultdict(list)"
   ]
  },
  {
   "cell_type": "code",
   "execution_count": 53,
   "metadata": {},
   "outputs": [],
   "source": [
    "for vote in data:\n",
    "    if vote['cookie_id'] == '' or vote['against_id'] == '':\n",
    "        continue\n",
    "    votes[vote['user']].append((cookies[vote['cookie_id']], cookies[vote['against_id']]))"
   ]
  },
  {
   "cell_type": "code",
   "execution_count": 30,
   "metadata": {},
   "outputs": [],
   "source": [
    "def weights_all(v, a):\n",
    "    weights = np.array([1.0] * len(a))\n",
    "    for win, loss in v:\n",
    "        good = a[:, win] > a[:, loss]\n",
    "        weights[good] *= 0.9\n",
    "        weights[~good] *= 0.1\n",
    "    return weights"
   ]
  },
  {
   "cell_type": "code",
   "execution_count": 32,
   "metadata": {
    "scrolled": false
   },
   "outputs": [],
   "source": [
    "kkk = [k for k in votes if votes[k] == vvv][0]"
   ]
  },
  {
   "cell_type": "code",
   "execution_count": 40,
   "metadata": {},
   "outputs": [],
   "source": [
    "def get_marks(seed, n):\n",
    "    #return np.random.uniform(size=(len(votes), 56))\n",
    "    vvotes = {kkk: votes[kkk]}\n",
    "    marks = np.zeros((len(vvotes), 56))\n",
    "    np.random.seed(seed)\n",
    "    a = np.random.uniform(size=(n, 56))\n",
    "\n",
    "    for i, (k, vvv) in tqdm_notebook(enumerate(vvotes.items()), total=len(votes)):\n",
    "        weights = weights_all(vvv, a)\n",
    "        q = (a * np.repeat(weights.reshape((-1, 1)), a.shape[1], axis=1)).sum(axis=0) / weights.sum()\n",
    "        marks[i] = q\n",
    "    return marks"
   ]
  },
  {
   "cell_type": "code",
   "execution_count": 38,
   "metadata": {
    "scrolled": true
   },
   "outputs": [
    {
     "data": {
      "application/vnd.jupyter.widget-view+json": {
       "model_id": "e2ea3e22ec654f02b6a5ce0c54290fbb",
       "version_major": 2,
       "version_minor": 0
      },
      "text/plain": [
       "HBox(children=(IntProgress(value=0, max=202), HTML(value='')))"
      ]
     },
     "metadata": {},
     "output_type": "display_data"
    },
    {
     "name": "stdout",
     "output_type": "stream",
     "text": [
      "\n"
     ]
    },
    {
     "data": {
      "application/vnd.jupyter.widget-view+json": {
       "model_id": "0cef1127025a42aa8deddfccbc1469b9",
       "version_major": 2,
       "version_minor": 0
      },
      "text/plain": [
       "HBox(children=(IntProgress(value=0, max=202), HTML(value='')))"
      ]
     },
     "metadata": {},
     "output_type": "display_data"
    },
    {
     "name": "stdout",
     "output_type": "stream",
     "text": [
      "\n",
      "bad 0 0.03433477482902786 0.03433477482902786\n"
     ]
    },
    {
     "data": {
      "image/png": "[encoded data removed]",
      "text/plain": [
       "<Figure size 432x288 with 1 Axes>"
      ]
     },
     "metadata": {},
     "output_type": "display_data"
    }
   ],
   "source": [
    "for n in [100000]: #[1000, 10000, 100000, 1000000]:\n",
    "    marks1 = get_marks(42 + n, n)\n",
    "    marks2 = get_marks(43 + n, n)\n",
    "    #diff = (np.abs(marks1 - marks2) / (marks1 + marks2)).mean(axis=1)\n",
    "    diff = (np.abs(marks1 - marks2)).max(axis=1)\n",
    "    print(\"bad\", np.isnan(diff).sum(), diff[np.isfinite(diff)].max(), diff[np.isfinite(diff)].mean())\n",
    "    plt.hist(diff[np.isfinite(diff)])\n",
    "    plt.show()"
   ]
  },
  {
   "cell_type": "code",
   "execution_count": 42,
   "metadata": {},
   "outputs": [
    {
     "data": {
      "text/plain": [
       "(array([  9.,  11.,  15.,  19.,  22.,  29.,  34.,  47.,  51.,  54.,  65.,\n",
       "         75.,  80.,  86.,  94.,  95.,  98., 101., 106., 108., 112., 119.,\n",
       "        121., 123., 128., 129., 129., 131., 137., 137., 138., 140., 144.,\n",
       "        146., 148., 149., 151., 151., 155., 159., 160., 161., 162., 164.,\n",
       "        164., 166., 167., 167., 169., 171.]),\n",
       " array([  3.  ,   6.84,  10.68,  14.52,  18.36,  22.2 ,  26.04,  29.88,\n",
       "         33.72,  37.56,  41.4 ,  45.24,  49.08,  52.92,  56.76,  60.6 ,\n",
       "         64.44,  68.28,  72.12,  75.96,  79.8 ,  83.64,  87.48,  91.32,\n",
       "         95.16,  99.  , 102.84, 106.68, 110.52, 114.36, 118.2 , 122.04,\n",
       "        125.88, 129.72, 133.56, 137.4 , 141.24, 145.08, 148.92, 152.76,\n",
       "        156.6 , 160.44, 164.28, 168.12, 171.96, 175.8 , 179.64, 183.48,\n",
       "        187.32, 191.16, 195.  ]),\n",
       " <a list of 50 Patch objects>)"
      ]
     },
     "execution_count": 42,
     "metadata": {},
     "output_type": "execute_result"
    },
    {
     "data": {
      "image/png": "[encoded data removed]",
      "text/plain": [
       "<Figure size 432x288 with 1 Axes>"
      ]
     },
     "metadata": {},
     "output_type": "display_data"
    }
   ],
   "source": [
    "vc = np.array([len(v) for v in votes.values()])\n",
    "plt.hist(vc[vc < 200], bins=50, cumulative=True)"
   ]
  },
  {
   "cell_type": "code",
   "execution_count": 43,
   "metadata": {},
   "outputs": [],
   "source": [
    "vvv = votes['0.878850851459301']"
   ]
  },
  {
   "cell_type": "code",
   "execution_count": 44,
   "metadata": {},
   "outputs": [
    {
     "data": {
      "text/plain": [
       "[(0, 1),\n",
       " (2, 3),\n",
       " (4, 5),\n",
       " (6, 5),\n",
       " (28, 14),\n",
       " (39, 31),\n",
       " (25, 37),\n",
       " (30, 16),\n",
       " (0, 1),\n",
       " (2, 3),\n",
       " (4, 5),\n",
       " (6, 5),\n",
       " (28, 14),\n",
       " (39, 31),\n",
       " (25, 37),\n",
       " (30, 16),\n",
       " (0, 1),\n",
       " (2, 3),\n",
       " (4, 5),\n",
       " (6, 5),\n",
       " (28, 14),\n",
       " (39, 31),\n",
       " (25, 37),\n",
       " (30, 16)]"
      ]
     },
     "execution_count": 44,
     "metadata": {},
     "output_type": "execute_result"
    }
   ],
   "source": [
    "vvv"
   ]
  },
  {
   "cell_type": "code",
   "execution_count": 45,
   "metadata": {},
   "outputs": [],
   "source": [
    "import itertools"
   ]
  },
  {
   "cell_type": "code",
   "execution_count": 56,
   "metadata": {
    "scrolled": true
   },
   "outputs": [
    {
     "data": {
      "image/png": "[encoded data removed]",
      "text/plain": [
       "<Figure size 432x288 with 1 Axes>"
      ]
     },
     "metadata": {},
     "output_type": "display_data"
    }
   ],
   "source": [
    "# количество людей, которые видели данное число печенек\n",
    "plt.hist([len(set(itertools.chain([x for x, _ in vvv], [x for _, x in vvv]))) for vvv in votes.values()], bins=len(cookies))\n",
    "plt.show()"
   ]
  },
  {
   "cell_type": "code",
   "execution_count": 48,
   "metadata": {},
   "outputs": [],
   "source": [
    "def update_weight(w, v, lr=0.1):\n",
    "    x = w[v[0]] - w[v[1]]\n",
    "    d = 1.0 - np.exp(x - 1)\n",
    "    w[v[0]] = min(w[v[0]] + d * lr, 1.0)\n",
    "    w[v[1]] = max(w[v[1]] - d * lr, 0.0)"
   ]
  },
  {
   "cell_type": "code",
   "execution_count": 50,
   "metadata": {},
   "outputs": [],
   "source": [
    "# vvv = [v for v in votes.values() if len(v) == 10][0]"
   ]
  },
  {
   "cell_type": "code",
   "execution_count": 51,
   "metadata": {},
   "outputs": [],
   "source": [
    "import random"
   ]
  },
  {
   "cell_type": "code",
   "execution_count": 59,
   "metadata": {},
   "outputs": [
    {
     "data": {
      "application/vnd.jupyter.widget-view+json": {
       "model_id": "5d1d02df8aac471893906a54de37af2b",
       "version_major": 2,
       "version_minor": 0
      },
      "text/plain": [
       "HBox(children=(IntProgress(value=0, max=202), HTML(value='')))"
      ]
     },
     "metadata": {},
     "output_type": "display_data"
    },
    {
     "name": "stdout",
     "output_type": "stream",
     "text": [
      "\n"
     ]
    }
   ],
   "source": [
    "#vvv = votes.values().__iter__().__next__() #[(0, 1), (1, 2), (0, 3)]\n",
    "marks = np.zeros((len(votes), len(cookies)))\n",
    "votes_num = []\n",
    "for i, vvv in tqdm_notebook(enumerate(votes.values()), total=len(votes)):\n",
    "    votes_num.append(len(vvv))\n",
    "    #continue\n",
    "    m = len(cookies) #max(max(x, y) for x, y in vvv)\n",
    "    vvv = vvv[:]\n",
    "    vvv += [(i, m) for i in range(m)]\n",
    "    vvv += [(m + 1, i) for i in range(m)]\n",
    "\n",
    "    w = [0.5] * (m + 2)\n",
    "    for _ in range(500):\n",
    "        random.shuffle(vvv)\n",
    "        for v in vvv:\n",
    "            update_weight(w, v, lr=0.02)\n",
    "            w[m] = 0.0\n",
    "            w[m + 1] = 1.0\n",
    "    marks[i] = w[:len(cookies)]\n",
    "    #print(' '.join('%d-%.2f' % (i, x, ) for i, x in enumerate(w[:-2]) if abs(x - 0.5) > 1e-5))"
   ]
  },
  {
   "cell_type": "code",
   "execution_count": 62,
   "metadata": {
    "scrolled": true
   },
   "outputs": [
    {
     "data": {
      "text/plain": [
       "['c8cf929ec11ed23403ab6558eec7b2db',\n",
       " 'd0c5f601726f94b011f2b386cf122afd',\n",
       " '5c84eb5c22a1ef8e8899c062e07238c4',\n",
       " 'cd9519a07dcbab06daed0949c8c59d72',\n",
       " 'cc98f134d8e047f989b7fa9f9373aaa7']"
      ]
     },
     "execution_count": 62,
     "metadata": {},
     "output_type": "execute_result"
    }
   ],
   "source": [
    "[k for k, v in cookies.items() if (marks > 0.6).mean(axis = 0)[v] > 0.35]"
   ]
  },
  {
   "cell_type": "code",
   "execution_count": 74,
   "metadata": {
    "scrolled": true
   },
   "outputs": [
    {
     "data": {
      "text/html": [
       "<img src=\"https://cookies.kocherga.club/images/c8cf929ec11ed23403ab6558eec7b2db\" width=\"150\" height=\"150\"/>"
      ],
      "text/plain": [
       "<IPython.core.display.Image object>"
      ]
     },
     "metadata": {},
     "output_type": "display_data"
    },
    {
     "data": {
      "text/html": [
       "<img src=\"https://cookies.kocherga.club/images/d0c5f601726f94b011f2b386cf122afd\" width=\"150\" height=\"150\"/>"
      ],
      "text/plain": [
       "<IPython.core.display.Image object>"
      ]
     },
     "metadata": {},
     "output_type": "display_data"
    },
    {
     "data": {
      "text/html": [
       "<img src=\"https://cookies.kocherga.club/images/5c84eb5c22a1ef8e8899c062e07238c4\" width=\"150\" height=\"150\"/>"
      ],
      "text/plain": [
       "<IPython.core.display.Image object>"
      ]
     },
     "metadata": {},
     "output_type": "display_data"
    },
    {
     "data": {
      "text/html": [
       "<img src=\"https://cookies.kocherga.club/images/cd9519a07dcbab06daed0949c8c59d72\" width=\"150\" height=\"150\"/>"
      ],
      "text/plain": [
       "<IPython.core.display.Image object>"
      ]
     },
     "metadata": {},
     "output_type": "display_data"
    },
    {
     "data": {
      "text/html": [
       "<img src=\"https://cookies.kocherga.club/images/cc98f134d8e047f989b7fa9f9373aaa7\" width=\"150\" height=\"150\"/>"
      ],
      "text/plain": [
       "<IPython.core.display.Image object>"
      ]
     },
     "metadata": {},
     "output_type": "display_data"
    }
   ],
   "source": [
    "from IPython.display import Image, display\n",
    "for cookie_id in [k for k, v in cookies.items() if (marks > 0.6).mean(axis = 0)[v] > 0.35]:\n",
    "    display(Image(url=f'https://cookies.kocherga.club/images/{cookie_id}', width=150, height=150))"
   ]
  },
  {
   "cell_type": "code",
   "execution_count": 75,
   "metadata": {},
   "outputs": [],
   "source": [
    "pos_learn = {}\n",
    "for i, (k, _) in enumerate(sorted([(k, marks[:, v].mean()) for k, v in cookies.items()], key=lambda x: -x[1])):\n",
    "    pos_learn[k] = i"
   ]
  },
  {
   "cell_type": "code",
   "execution_count": 79,
   "metadata": {
    "scrolled": false
   },
   "outputs": [],
   "source": [
    "pos_naive = {}\n",
    "for i, (k, _) in enumerate(sorted([(k, rating[v]) for k, v in cookies.items()], key=lambda x: -x[1])):\n",
    "    pos_naive[k] = i"
   ]
  },
  {
   "cell_type": "code",
   "execution_count": 80,
   "metadata": {},
   "outputs": [],
   "source": [
    "qqq = np.array([[pos_learn[k], pos_naive[k]] for k in pos_learn])"
   ]
  },
  {
   "cell_type": "code",
   "execution_count": 81,
   "metadata": {
    "scrolled": true
   },
   "outputs": [
    {
     "data": {
      "text/plain": [
       "[<matplotlib.lines.Line2D at 0x11d4f0470>]"
      ]
     },
     "execution_count": 81,
     "metadata": {},
     "output_type": "execute_result"
    },
    {
     "data": {
      "image/png": "[encoded data removed]",
      "text/plain": [
       "<Figure size 432x288 with 1 Axes>"
      ]
     },
     "metadata": {},
     "output_type": "display_data"
    }
   ],
   "source": [
    "plt.plot(qqq[:, 0], qqq[:, 1], '.')"
   ]
  },
  {
   "cell_type": "code",
   "execution_count": 82,
   "metadata": {},
   "outputs": [],
   "source": [
    "votes_pos = defaultdict(int)\n",
    "votes_neg = defaultdict(int)\n",
    "for vvv in votes.values():\n",
    "    for w, l in vvv:\n",
    "        votes_pos[w] += 1\n",
    "        votes_neg[l] += 1"
   ]
  },
  {
   "cell_type": "code",
   "execution_count": 85,
   "metadata": {},
   "outputs": [],
   "source": [
    "rating = {k: (votes_pos[k] - votes_neg[k]) / ((votes_pos[k] + votes_neg[k]) or 1) for k in range(55)}"
   ]
  },
  {
   "cell_type": "code",
   "execution_count": 89,
   "metadata": {
    "scrolled": true
   },
   "outputs": [
    {
     "data": {
      "text/html": [
       "<img src=\"https://cookies.kocherga.club/images/5c84eb5c22a1ef8e8899c062e07238c4\" width=\"100\" height=\"100\"/>"
      ],
      "text/plain": [
       "<IPython.core.display.Image object>"
      ]
     },
     "metadata": {},
     "output_type": "display_data"
    },
    {
     "data": {
      "text/html": [
       "<img src=\"https://cookies.kocherga.club/images/cd9519a07dcbab06daed0949c8c59d72\" width=\"100\" height=\"100\"/>"
      ],
      "text/plain": [
       "<IPython.core.display.Image object>"
      ]
     },
     "metadata": {},
     "output_type": "display_data"
    },
    {
     "data": {
      "text/html": [
       "<img src=\"https://cookies.kocherga.club/images/d0c5f601726f94b011f2b386cf122afd\" width=\"100\" height=\"100\"/>"
      ],
      "text/plain": [
       "<IPython.core.display.Image object>"
      ]
     },
     "metadata": {},
     "output_type": "display_data"
    },
    {
     "data": {
      "text/html": [
       "<img src=\"https://cookies.kocherga.club/images/cc98f134d8e047f989b7fa9f9373aaa7\" width=\"100\" height=\"100\"/>"
      ],
      "text/plain": [
       "<IPython.core.display.Image object>"
      ]
     },
     "metadata": {},
     "output_type": "display_data"
    },
    {
     "data": {
      "text/html": [
       "<img src=\"https://cookies.kocherga.club/images/c8cf929ec11ed23403ab6558eec7b2db\" width=\"100\" height=\"100\"/>"
      ],
      "text/plain": [
       "<IPython.core.display.Image object>"
      ]
     },
     "metadata": {},
     "output_type": "display_data"
    },
    {
     "data": {
      "text/html": [
       "<img src=\"https://cookies.kocherga.club/images/16f65d2d8bdca34c18f8e95fae85a29a\" width=\"100\" height=\"100\"/>"
      ],
      "text/plain": [
       "<IPython.core.display.Image object>"
      ]
     },
     "metadata": {},
     "output_type": "display_data"
    },
    {
     "data": {
      "text/html": [
       "<img src=\"https://cookies.kocherga.club/images/9917153c881f8eb60b27af0ff4675ff5\" width=\"100\" height=\"100\"/>"
      ],
      "text/plain": [
       "<IPython.core.display.Image object>"
      ]
     },
     "metadata": {},
     "output_type": "display_data"
    },
    {
     "data": {
      "text/html": [
       "<img src=\"https://cookies.kocherga.club/images/b600acec8ea68e23f0ccd009b2d2528f\" width=\"100\" height=\"100\"/>"
      ],
      "text/plain": [
       "<IPython.core.display.Image object>"
      ]
     },
     "metadata": {},
     "output_type": "display_data"
    },
    {
     "data": {
      "text/html": [
       "<img src=\"https://cookies.kocherga.club/images/b520f9f2e20f27f9bd121cc837f63815\" width=\"100\" height=\"100\"/>"
      ],
      "text/plain": [
       "<IPython.core.display.Image object>"
      ]
     },
     "metadata": {},
     "output_type": "display_data"
    },
    {
     "data": {
      "text/html": [
       "<img src=\"https://cookies.kocherga.club/images/ceada290c93655d36aca7567289dcc59\" width=\"100\" height=\"100\"/>"
      ],
      "text/plain": [
       "<IPython.core.display.Image object>"
      ]
     },
     "metadata": {},
     "output_type": "display_data"
    }
   ],
   "source": [
    "for (k, r) in sorted([(k, marks[:, v].mean()) for k, v in cookies.items()], key=lambda x: -x[1])[:10]:\n",
    "    display(Image(url=f'https://cookies.kocherga.club/images/{k}',width=100,height=100))"
   ]
  },
  {
   "cell_type": "code",
   "execution_count": null,
   "metadata": {},
   "outputs": [],
   "source": []
  }
 ],
 "metadata": {
  "kernelspec": {
   "display_name": "Python 3",
   "language": "python",
   "name": "python3"
  },
  "language_info": {
   "codemirror_mode": {
    "name": "ipython",
    "version": 3
   },
   "file_extension": ".py",
   "mimetype": "text/x-python",
   "name": "python",
   "nbconvert_exporter": "python",
   "pygments_lexer": "ipython3",
   "version": "3.6.5"
  }
 },
 "nbformat": 4,
 "nbformat_minor": 2
}
